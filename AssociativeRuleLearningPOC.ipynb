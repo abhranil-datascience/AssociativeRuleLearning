{
  "nbformat": 4,
  "nbformat_minor": 0,
  "metadata": {
    "colab": {
      "name": "AssociativeRuleLearningPOC.ipynb",
      "provenance": [],
      "collapsed_sections": [],
      "include_colab_link": true
    },
    "kernelspec": {
      "name": "python3",
      "display_name": "Python 3"
    },
    "accelerator": "GPU"
  },
  "cells": [
    {
      "cell_type": "markdown",
      "metadata": {
        "id": "view-in-github",
        "colab_type": "text"
      },
      "source": [
        "<a href=\"https://colab.research.google.com/github/abhranil-datascience/AssociativeRuleLearning/blob/master/AssociativeRuleLearningPOC.ipynb\" target=\"_parent\"><img src=\"https://colab.research.google.com/assets/colab-badge.svg\" alt=\"Open In Colab\"/></a>"
      ]
    },
    {
      "cell_type": "code",
      "metadata": {
        "id": "5ewN9J2JFEZ7",
        "colab_type": "code",
        "outputId": "69459b0d-9a49-4b77-861a-de9996852333",
        "colab": {
          "base_uri": "https://localhost:8080/",
          "height": 443
        }
      },
      "source": [
        "############################## Mount Drive ######################################## \n",
        "from google.colab import drive\n",
        "drive.mount('/content/gdrive')\n",
        "############################## Change Directory ###################################\n",
        "import os\n",
        "os.chdir('/content/gdrive/My Drive/MLandDLFullCourse/ML/AssosiativeRuleLearning/Apriori')\n",
        "########## Install apyori ###############\n",
        "#!pip install apyori\n",
        "########## Suppress Warnings ############\n",
        "import warnings\n",
        "warnings.filterwarnings('ignore')\n",
        "########## Import Dataset #################\n",
        "import pandas as pd\n",
        "dataset=pd.read_csv(filepath_or_buffer='Market_Basket_Optimisation.csv',header=None)\n",
        "TransactionList=dataset.iloc[:,:].values\n",
        "######### Remove NAN ###############\n",
        "Transactions=[]\n",
        "for row in range(0,TransactionList.shape[0]):\n",
        "  CurrentTransaction=[]\n",
        "  for col in range(0,TransactionList.shape[1]):\n",
        "    if str(TransactionList[row][col])!='nan':\n",
        "      CurrentTransaction.append(str(TransactionList[row][col]))\n",
        "  Transactions.append(CurrentTransaction)\n",
        "######## Call apyori ###############\n",
        "from apyori import apriori\n",
        "rules=apriori(transactions=Transactions,min_support=0.005,min_confidence=0.5,min_lift=2)\n",
        "result=list(rules)\n",
        "resultList=[]\n",
        "for i in range(0,len(result)):\n",
        "  resultList.append('Rule: '+str(result[i][0])+\" || Support: \"+str(result[i][1]))\n",
        "resultList"
      ],
      "execution_count": 0,
      "outputs": [
        {
          "output_type": "stream",
          "text": [
            "Go to this URL in a browser: https://accounts.google.com/o/oauth2/auth?client_id=947318989803-6bn6qk8qdgf4n4g3pfee6491hc0brc4i.apps.googleusercontent.com&redirect_uri=urn%3aietf%3awg%3aoauth%3a2.0%3aoob&response_type=code&scope=email%20https%3a%2f%2fwww.googleapis.com%2fauth%2fdocs.test%20https%3a%2f%2fwww.googleapis.com%2fauth%2fdrive%20https%3a%2f%2fwww.googleapis.com%2fauth%2fdrive.photos.readonly%20https%3a%2f%2fwww.googleapis.com%2fauth%2fpeopleapi.readonly\n",
            "\n",
            "Enter your authorization code:\n",
            "··········\n",
            "Mounted at /content/gdrive\n"
          ],
          "name": "stdout"
        },
        {
          "output_type": "execute_result",
          "data": {
            "text/plain": [
              "[\"Rule: frozenset({'mineral water', 'chicken', 'chocolate'}) || Support: 0.007598986801759766\",\n",
              " \"Rule: frozenset({'olive oil', 'chocolate', 'mineral water'}) || Support: 0.008265564591387815\",\n",
              " \"Rule: frozenset({'chocolate', 'mineral water', 'soup'}) || Support: 0.005599253432875617\",\n",
              " \"Rule: frozenset({'eggs', 'mineral water', 'cooking oil'}) || Support: 0.006399146780429276\",\n",
              " \"Rule: frozenset({'eggs', 'mineral water', 'ground beef'}) || Support: 0.010131982402346354\",\n",
              " \"Rule: frozenset({'mineral water', 'ground beef', 'frozen vegetables'}) || Support: 0.009198773496867084\",\n",
              " \"Rule: frozenset({'ground beef', 'spaghetti', 'frozen vegetables'}) || Support: 0.008665511265164644\",\n",
              " \"Rule: frozenset({'olive oil', 'mineral water', 'frozen vegetables'}) || Support: 0.006532462338354886\",\n",
              " \"Rule: frozenset({'mineral water', 'soup', 'frozen vegetables'}) || Support: 0.005065991201173177\",\n",
              " \"Rule: frozenset({'olive oil', 'spaghetti', 'frozen vegetables'}) || Support: 0.005732568990801226\",\n",
              " \"Rule: frozenset({'mineral water', 'ground beef', 'milk'}) || Support: 0.011065191307825623\",\n",
              " \"Rule: frozenset({'mineral water', 'ground beef', 'pancakes'}) || Support: 0.007465671243834155\",\n",
              " \"Rule: frozenset({'mineral water', 'ground beef', 'soup'}) || Support: 0.005065991201173177\",\n",
              " \"Rule: frozenset({'shrimp', 'ground beef', 'spaghetti'}) || Support: 0.005999200106652446\",\n",
              " \"Rule: frozenset({'olive oil', 'mineral water', 'milk'}) || Support: 0.008532195707239034\",\n",
              " \"Rule: frozenset({'mineral water', 'soup', 'milk'}) || Support: 0.008532195707239034\",\n",
              " \"Rule: frozenset({'mineral water', 'turkey', 'milk'}) || Support: 0.0061325156645780565\",\n",
              " \"Rule: frozenset({'olive oil', 'mineral water', 'soup'}) || Support: 0.005199306759098787\",\n",
              " \"Rule: frozenset({'mineral water', 'spaghetti', 'salmon'}) || Support: 0.006799093454206106\",\n",
              " \"Rule: frozenset({'mineral water', 'soup', 'spaghetti'}) || Support: 0.007465671243834155\"]"
            ]
          },
          "metadata": {
            "tags": []
          },
          "execution_count": 1
        }
      ]
    }
  ]
}